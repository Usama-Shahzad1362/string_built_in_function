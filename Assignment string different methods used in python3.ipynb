{
 "cells": [
  {
   "cell_type": "markdown",
   "metadata": {},
   "source": [
    "# Assignment Python \n",
    "# timing 9 to 12\n",
    "# string built in method"
   ]
  },
  {
   "cell_type": "code",
   "execution_count": 4,
   "metadata": {},
   "outputs": [
    {
     "data": {
      "text/plain": [
       "['__add__',\n",
       " '__class__',\n",
       " '__contains__',\n",
       " '__delattr__',\n",
       " '__dir__',\n",
       " '__doc__',\n",
       " '__eq__',\n",
       " '__format__',\n",
       " '__ge__',\n",
       " '__getattribute__',\n",
       " '__getitem__',\n",
       " '__getnewargs__',\n",
       " '__gt__',\n",
       " '__hash__',\n",
       " '__init__',\n",
       " '__init_subclass__',\n",
       " '__iter__',\n",
       " '__le__',\n",
       " '__len__',\n",
       " '__lt__',\n",
       " '__mod__',\n",
       " '__mul__',\n",
       " '__ne__',\n",
       " '__new__',\n",
       " '__reduce__',\n",
       " '__reduce_ex__',\n",
       " '__repr__',\n",
       " '__rmod__',\n",
       " '__rmul__',\n",
       " '__setattr__',\n",
       " '__sizeof__',\n",
       " '__str__',\n",
       " '__subclasshook__',\n",
       " 'capitalize',\n",
       " 'casefold',\n",
       " 'center',\n",
       " 'count',\n",
       " 'encode',\n",
       " 'endswith',\n",
       " 'expandtabs',\n",
       " 'find',\n",
       " 'format',\n",
       " 'format_map',\n",
       " 'index',\n",
       " 'isalnum',\n",
       " 'isalpha',\n",
       " 'isascii',\n",
       " 'isdecimal',\n",
       " 'isdigit',\n",
       " 'isidentifier',\n",
       " 'islower',\n",
       " 'isnumeric',\n",
       " 'isprintable',\n",
       " 'isspace',\n",
       " 'istitle',\n",
       " 'isupper',\n",
       " 'join',\n",
       " 'ljust',\n",
       " 'lower',\n",
       " 'lstrip',\n",
       " 'maketrans',\n",
       " 'partition',\n",
       " 'replace',\n",
       " 'rfind',\n",
       " 'rindex',\n",
       " 'rjust',\n",
       " 'rpartition',\n",
       " 'rsplit',\n",
       " 'rstrip',\n",
       " 'split',\n",
       " 'splitlines',\n",
       " 'startswith',\n",
       " 'strip',\n",
       " 'swapcase',\n",
       " 'title',\n",
       " 'translate',\n",
       " 'upper',\n",
       " 'zfill']"
      ]
     },
     "execution_count": 4,
     "metadata": {},
     "output_type": "execute_result"
    }
   ],
   "source": [
    "name = \"usama shahzad\"\n",
    "dir(name)\n"
   ]
  },
  {
   "cell_type": "code",
   "execution_count": 5,
   "metadata": {},
   "outputs": [
    {
     "name": "stdout",
     "output_type": "stream",
     "text": [
      "Usama shahzad\n"
     ]
    }
   ],
   "source": [
    "name = \"usama shahzad\"\n",
    "print(name.capitalize()) #it capitialize the first alphabet or letter of string"
   ]
  },
  {
   "cell_type": "code",
   "execution_count": 10,
   "metadata": {},
   "outputs": [
    {
     "name": "stdout",
     "output_type": "stream",
     "text": [
      "usama shahzad\n"
     ]
    }
   ],
   "source": [
    "name = \"usAMA shahzad\"\n",
    "print(name.casefold())#it take the alpahbet of string to lower-case"
   ]
  },
  {
   "cell_type": "code",
   "execution_count": 23,
   "metadata": {},
   "outputs": [
    {
     "name": "stdout",
     "output_type": "stream",
     "text": [
      "                     usama shahzad khan                     \n"
     ]
    }
   ],
   "source": [
    "name = \"usama shahzad khan\"\n",
    "print(name.center(60))#it takes the space of 60 white space-character in the string from left to right"
   ]
  },
  {
   "cell_type": "code",
   "execution_count": 25,
   "metadata": {},
   "outputs": [
    {
     "name": "stdout",
     "output_type": "stream",
     "text": [
      "4\n"
     ]
    }
   ],
   "source": [
    "name = \"usama shahzad\"\n",
    "print(name.count('a'))#it counts the specific alphabet and then print the  total amount of character or alphabet which is repeated in the string"
   ]
  },
  {
   "cell_type": "code",
   "execution_count": 1,
   "metadata": {},
   "outputs": [
    {
     "name": "stdout",
     "output_type": "stream",
     "text": [
      "b'usama shahzad'\n"
     ]
    }
   ],
   "source": [
    "name = \"usama shahzad\"\n",
    "print(name.encode())"
   ]
  },
  {
   "cell_type": "code",
   "execution_count": 49,
   "metadata": {},
   "outputs": [
    {
     "name": "stdout",
     "output_type": "stream",
     "text": [
      "True\n",
      "False\n"
     ]
    }
   ],
   "source": [
    "name = \"usama shahzad\"\n",
    "print(name.endswith('d'))#it returns the bool value true or false after comparing with last alphabet of string\n",
    "name = \"usama shahzad\"\n",
    "print(name.endswith('a')) #in this case it returns false bcz ending alphabet is not \"d\""
   ]
  },
  {
   "cell_type": "code",
   "execution_count": 9,
   "metadata": {},
   "outputs": [
    {
     "name": "stdout",
     "output_type": "stream",
     "text": [
      "usama     shahzad   khan\n"
     ]
    }
   ],
   "source": [
    "name = \"usama\\tshahzad\\tkhan\"\n",
    "print(name.expandtabs(5))#it gives the space between the character of string default size is 8"
   ]
  },
  {
   "cell_type": "code",
   "execution_count": 99,
   "metadata": {},
   "outputs": [
    {
     "name": "stdout",
     "output_type": "stream",
     "text": [
      "12\n"
     ]
    }
   ],
   "source": [
    "name = \"usama shahzad\"\n",
    "print(name.find('d'))#it tells the index number of a specific character in string"
   ]
  },
  {
   "cell_type": "code",
   "execution_count": 11,
   "metadata": {},
   "outputs": [
    {
     "name": "stdout",
     "output_type": "stream",
     "text": [
      "\n",
      "name = Usama Shahzad\n",
      "father_name = Muhammad Shahzad Khan\n",
      "program = PIAIC\n",
      "\n",
      "\n",
      "name = PIAIC\n",
      "father_name = Usama Shahzad\n",
      "program = Muhammad Shahzad Khan\n",
      "\n"
     ]
    }
   ],
   "source": [
    "name = \"Usama Shahzad\"\n",
    "father_name = \"Muhammad Shahzad Khan\"\n",
    "program=\"PIAIC\"\n",
    "\n",
    "card= \"\"\"\n",
    "name = {}\n",
    "father_name = {}\n",
    "program = {}\n",
    "\"\"\"\n",
    "print(card.format(name,father_name,program))#format gave us the facility to print the string sequence according to our desire or wish\n",
    "print(card.format(program,name,father_name))#in this line i changed the sequence of the string according to my choice"
   ]
  },
  {
   "cell_type": "code",
   "execution_count": 15,
   "metadata": {},
   "outputs": [
    {
     "name": "stdout",
     "output_type": "stream",
     "text": [
      "Usama Shahzad\n",
      "4 5\n"
     ]
    }
   ],
   "source": [
    "name={\"first_name\":\"Usama\",\"last_name\":\"Shahzad\"}\n",
    "print(\"{first_name} {last_name}\".format_map(name))#it map the element of string together\n",
    "name={\"first_number\":4,\"last_number\":5}\n",
    "print(\"{first_number} {last_number}\".format_map(name))#it map the element of string together"
   ]
  },
  {
   "cell_type": "code",
   "execution_count": 33,
   "metadata": {},
   "outputs": [
    {
     "name": "stdout",
     "output_type": "stream",
     "text": [
      "10\n"
     ]
    }
   ],
   "source": [
    "name=\"Usama Shahzad\"\n",
    "print(name.index(\"z\"))#it return the index number of a specific character in the string"
   ]
  },
  {
   "cell_type": "code",
   "execution_count": 41,
   "metadata": {},
   "outputs": [
    {
     "name": "stdout",
     "output_type": "stream",
     "text": [
      "False\n",
      "True\n"
     ]
    }
   ],
   "source": [
    "name=\"Usama Shahzad\"\n",
    "print(name.isalnum())#it returns the bool value true or false after checking that string is alphanumeric or not e.g character and number\n",
    "name=\"UsamaShahzad1362\"\n",
    "print(name.isalnum())"
   ]
  },
  {
   "cell_type": "code",
   "execution_count": 44,
   "metadata": {},
   "outputs": [
    {
     "name": "stdout",
     "output_type": "stream",
     "text": [
      "True\n",
      "False\n"
     ]
    }
   ],
   "source": [
    "name=\"UsamaShahzad\"\n",
    "print(name.isalpha())#it returns bool value depends upon the condition that string has white-space-character or not\n",
    "name=\"Usama Shahzad\"\n",
    "print(name.isalpha())#in this case it returns false bcz it has one white space character "
   ]
  },
  {
   "cell_type": "code",
   "execution_count": 37,
   "metadata": {},
   "outputs": [
    {
     "name": "stdout",
     "output_type": "stream",
     "text": [
      "True\n",
      "False\n",
      "False\n"
     ]
    }
   ],
   "source": [
    "name=\"Usama Shahzad\"\n",
    "print(name.isascii())#it returns true if the string character has ascii values else false\n",
    "name=\"Usama©©®>Π Shahzad\"\n",
    "print(name.isascii())\n",
    "name=\"UsamaΠ Shahzad\"\n",
    "print(name.isascii())"
   ]
  },
  {
   "cell_type": "code",
   "execution_count": 61,
   "metadata": {},
   "outputs": [
    {
     "name": "stdout",
     "output_type": "stream",
     "text": [
      "True\n",
      "False\n"
     ]
    }
   ],
   "source": [
    "name=\"1362\"\n",
    "print(name.isdecimal())#it returns true only if string has decimal numbers otherwise it returns false\n",
    "name=\"UsamaShahzad1362\"\n",
    "print(name.isdecimal())#in this case it returns false bcz it has both characters and numbers"
   ]
  },
  {
   "cell_type": "code",
   "execution_count": 64,
   "metadata": {},
   "outputs": [
    {
     "name": "stdout",
     "output_type": "stream",
     "text": [
      "True\n",
      "False\n"
     ]
    }
   ],
   "source": [
    "name=\"1362\"\n",
    "print(name.isdigit())#it returns true only if string has numbers otherwise it returns false\n",
    "name=\"UsamaShahzad1362\"\n",
    "print(name.isdigit())#in this case it returns false bcz it has both characters and numbers"
   ]
  },
  {
   "cell_type": "code",
   "execution_count": 76,
   "metadata": {},
   "outputs": [
    {
     "name": "stdout",
     "output_type": "stream",
     "text": [
      "True\n",
      "True\n",
      "False\n"
     ]
    }
   ],
   "source": [
    "name=\"UsamaShahzad\"\n",
    "print(name.isidentifier())#it returns true only if the string is start with this hyphen-sign\"_\" or string has no space between the alphabets otherwise it is false\n",
    "name=\"_UsamaShahzad\"\n",
    "print(name.isidentifier())#it returns true only if the string is start with this hypen-sign\"_\" or string has no space between the alphabets otherwise it is false\n",
    "name=\"Usama Shahzad\"\n",
    "print(name.isidentifier())#in this case it is false bcz it has space between the alphabets"
   ]
  },
  {
   "cell_type": "code",
   "execution_count": 78,
   "metadata": {},
   "outputs": [
    {
     "name": "stdout",
     "output_type": "stream",
     "text": [
      "False\n",
      "True\n"
     ]
    }
   ],
   "source": [
    "name=\"UsamaShahzad\"\n",
    "print(name.islower())#it returns true if the string has all the alphabet in lower-case else false\n",
    "name=\"usamashahzad\"\n",
    "print(name.islower())#in this case it returns true bcz string has all the alphabet in lower-case"
   ]
  },
  {
   "cell_type": "code",
   "execution_count": 81,
   "metadata": {},
   "outputs": [
    {
     "name": "stdout",
     "output_type": "stream",
     "text": [
      "True\n",
      "False\n"
     ]
    }
   ],
   "source": [
    "name=\"1235346\"\n",
    "print(name.isnumeric())#it returns true only if string has numbers otherwise it returns false\n",
    "name=\"usamashahzad1362\"\n",
    "print(name.isnumeric())#in this case it returns false bcz it has both characters and numbers"
   ]
  },
  {
   "cell_type": "code",
   "execution_count": 18,
   "metadata": {},
   "outputs": [
    {
     "name": "stdout",
     "output_type": "stream",
     "text": [
      "True\n",
      "True\n",
      "False\n"
     ]
    }
   ],
   "source": [
    "name=\"UsamaShahzad\"\n",
    "print(name.isprintable())#it returns true if the string is empty or all characters in the string are printable\n",
    "name=\"  \"\n",
    "print(name.isprintable())\n",
    "name=\"UsamaShahzad\\n\"#it returns false if the string contains at least one non-printable() character\n",
    "print(name.isprintable())"
   ]
  },
  {
   "cell_type": "code",
   "execution_count": 87,
   "metadata": {},
   "outputs": [
    {
     "name": "stdout",
     "output_type": "stream",
     "text": [
      "True\n",
      "False\n"
     ]
    }
   ],
   "source": [
    "name=\"   \"\n",
    "print(name.isspace())#it returns true only if string has all white-space-character else false\n",
    "name=\"UsamaShahzad\"\n",
    "print(name.isspace())"
   ]
  },
  {
   "cell_type": "code",
   "execution_count": 24,
   "metadata": {},
   "outputs": [
    {
     "name": "stdout",
     "output_type": "stream",
     "text": [
      "True\n",
      "False\n"
     ]
    }
   ],
   "source": [
    "name=\"Usama Shahzad\"\n",
    "print(name.istitle())#it returns true only if all the words of string starts with a capital letter else false\n",
    "name=\"Usama shahzad\"\n",
    "print(name.istitle())"
   ]
  },
  {
   "cell_type": "code",
   "execution_count": 98,
   "metadata": {},
   "outputs": [
    {
     "name": "stdout",
     "output_type": "stream",
     "text": [
      "True\n",
      "False\n"
     ]
    }
   ],
   "source": [
    "name=\"USAMA SHAHZAD\"\n",
    "print(name.isupper())#it returns true only if string has all the alphabets in upper-case else false\n",
    "name=\"Usama Shahzad\"\n",
    "print(name.isupper())#it returns false bcz it does-not have all the alphabets in upper-case"
   ]
  },
  {
   "cell_type": "code",
   "execution_count": 27,
   "metadata": {},
   "outputs": [
    {
     "name": "stdout",
     "output_type": "stream",
     "text": [
      "1abc2abc3\n",
      "a123b123c\n",
      "1, 2, 3, 4\n",
      "1, 2, 3, 4\n"
     ]
    }
   ],
   "source": [
    "data1=\"abc\"\n",
    "data2=\"123\"\n",
    "print(data1.join(data2))#Each character of s2 is concatenated to the front of s1\n",
    "data1=\"abc\"\n",
    "data2=\"123\"\n",
    "print(data2.join(data1))#Each character of s1 is concatenated to the front of s2\n",
    "numList = ['1', '2', '3', '4']\n",
    "seperator = ', '\n",
    "print(seperator.join(numList))#Each seperator is concatenated to the front of num-list\n",
    "\n",
    "numTuple = ('1', '2', '3', '4')\n",
    "print(seperator.join(numTuple))#Each seperator is concatenated to the front of num-tuple"
   ]
  },
  {
   "cell_type": "code",
   "execution_count": 30,
   "metadata": {},
   "outputs": [
    {
     "name": "stdout",
     "output_type": "stream",
     "text": [
      "Usama                Shahzad\n"
     ]
    }
   ],
   "source": [
    "name=\"Usama\"\n",
    "name1=name.ljust(20)#it return white-space-character from left in the string \n",
    "print(name1,(\"Shahzad\"))#in this case it return 20 white-space-character from left side"
   ]
  },
  {
   "cell_type": "code",
   "execution_count": 123,
   "metadata": {},
   "outputs": [
    {
     "name": "stdout",
     "output_type": "stream",
     "text": [
      "usama shahzad\n"
     ]
    }
   ],
   "source": [
    "name=\"Usama Shahzad\"\n",
    "print(name.lower())#it convert all the alphabets of string into lower-case letter"
   ]
  },
  {
   "cell_type": "code",
   "execution_count": 125,
   "metadata": {},
   "outputs": [
    {
     "name": "stdout",
     "output_type": "stream",
     "text": [
      "       Usama Shahzad\n",
      "Usama Shahzad\n"
     ]
    }
   ],
   "source": [
    "name=\"       Usama Shahzad\"\n",
    "print(name)\n",
    "print(name.lstrip())#it removes all the white-space-character from left side of the string"
   ]
  },
  {
   "cell_type": "code",
   "execution_count": 55,
   "metadata": {},
   "outputs": [
    {
     "name": "stdout",
     "output_type": "stream",
     "text": [
      "{97: 49, 44: 44, 98: 50, 99: 51, 100: 52, 101: 53}\n",
      "a\n",
      "1\n"
     ]
    }
   ],
   "source": [
    "#maketrans() is a static method that creates a one to one mapping of a character to its translation/replacement It creates a Unicode representation of each character for translation.\n",
    "name1=\"a,b,c,d,e\"\n",
    "name2=\"1,2,3,4,5\"\n",
    "t=\" \".maketrans(name1,name2)#in this case it maps name1 with name 2 using unicode number\n",
    "print(t)\n",
    "print(chr(97))#here you can see that \"97\" is equal to \"a\" so it is mapped with name1 in unicode number(1 to 1 mapping)\n",
    "print(chr(49))#here you can see that \"49\" is equal to \"1\" so it is mapped with name1 in unicode number(1 to 1 mapping)"
   ]
  },
  {
   "cell_type": "code",
   "execution_count": 57,
   "metadata": {},
   "outputs": [
    {
     "name": "stdout",
     "output_type": "stream",
     "text": [
      "('Usama', 'Shahzad', 'khan')\n"
     ]
    }
   ],
   "source": [
    "name=\"UsamaShahzadkhan\"#here the string shahzad is the separator\n",
    "print(name.partition(\"Shahzad\"))#it returns tuple with the separators"
   ]
  },
  {
   "cell_type": "code",
   "execution_count": 142,
   "metadata": {},
   "outputs": [
    {
     "name": "stdout",
     "output_type": "stream",
     "text": [
      "Usama Shazy\n"
     ]
    }
   ],
   "source": [
    "name=\"Usama Shahzad\"\n",
    "print(name.replace(\"Shahzad\",\"Shazy\"))#it replace the word in a string \n"
   ]
  },
  {
   "cell_type": "code",
   "execution_count": 149,
   "metadata": {},
   "outputs": [
    {
     "name": "stdout",
     "output_type": "stream",
     "text": [
      "12\n",
      "-1\n"
     ]
    }
   ],
   "source": [
    "name=\"Usama Shahzad\"\n",
    "print(name.rfind(\"d\"))#it return the index number of a specific alphabet in the string else it return special value\"-1\"\n",
    "print(name.rfind(\"y\"))#return special value \"-1\""
   ]
  },
  {
   "cell_type": "code",
   "execution_count": 153,
   "metadata": {},
   "outputs": [
    {
     "name": "stdout",
     "output_type": "stream",
     "text": [
      "12\n"
     ]
    },
    {
     "ename": "ValueError",
     "evalue": "substring not found",
     "output_type": "error",
     "traceback": [
      "\u001b[0;31m---------------------------------------------------------------------------\u001b[0m",
      "\u001b[0;31mValueError\u001b[0m                                Traceback (most recent call last)",
      "\u001b[0;32m<ipython-input-153-feb7aae2a015>\u001b[0m in \u001b[0;36m<module>\u001b[0;34m\u001b[0m\n\u001b[1;32m      1\u001b[0m \u001b[0mname\u001b[0m\u001b[0;34m=\u001b[0m\u001b[0;34m\"Usama Shahzad\"\u001b[0m\u001b[0;34m\u001b[0m\u001b[0;34m\u001b[0m\u001b[0m\n\u001b[1;32m      2\u001b[0m \u001b[0mprint\u001b[0m\u001b[0;34m(\u001b[0m\u001b[0mname\u001b[0m\u001b[0;34m.\u001b[0m\u001b[0mrindex\u001b[0m\u001b[0;34m(\u001b[0m\u001b[0;34m\"d\"\u001b[0m\u001b[0;34m)\u001b[0m\u001b[0;34m)\u001b[0m\u001b[0;31m#it return the index number of a specific alphabet in the string else return error message\u001b[0m\u001b[0;34m\u001b[0m\u001b[0;34m\u001b[0m\u001b[0m\n\u001b[0;32m----> 3\u001b[0;31m \u001b[0mprint\u001b[0m\u001b[0;34m(\u001b[0m\u001b[0mname\u001b[0m\u001b[0;34m.\u001b[0m\u001b[0mrindex\u001b[0m\u001b[0;34m(\u001b[0m\u001b[0;34m\"y\"\u001b[0m\u001b[0;34m)\u001b[0m\u001b[0;34m)\u001b[0m\u001b[0;34m\u001b[0m\u001b[0;34m\u001b[0m\u001b[0m\n\u001b[0m",
      "\u001b[0;31mValueError\u001b[0m: substring not found"
     ]
    }
   ],
   "source": [
    "name=\"Usama Shahzad\"\n",
    "print(name.rindex(\"d\"))#it return the index number of a specific alphabet in the string else return error message\n",
    "print(name.rindex(\"y\"))#return error if number not found in the string"
   ]
  },
  {
   "cell_type": "code",
   "execution_count": 12,
   "metadata": {},
   "outputs": [
    {
     "name": "stdout",
     "output_type": "stream",
     "text": [
      "00Usama Shahzad\n",
      "Usama Shahzad\n"
     ]
    }
   ],
   "source": [
    "#The string rjust() method returns a right-justified string of a given minimum width\n",
    "#The syntax of rjust() method is : string.rjust(width[, fillchar])\n",
    "#it take two paramter width and fill character\n",
    "name=\"Usama Shahzad\"\n",
    "print(name.rjust(15,\"0\"))#here string has 13 character so after 13 character it fills the remaining two places with \"0\"\n",
    "name=\"Usama Shahzad\"\n",
    "print(name.rjust(13))#when string has width  smaller than the character of string it returns same string no change"
   ]
  },
  {
   "cell_type": "code",
   "execution_count": 166,
   "metadata": {},
   "outputs": [
    {
     "name": "stdout",
     "output_type": "stream",
     "text": [
      "('Usama', 'Shahzad', 'khan')\n"
     ]
    }
   ],
   "source": [
    "name=\"UsamaShahzadkhan\"\n",
    "print(name.rpartition(\"Shahzad\"))#it split the string from each other with the help of seperator and return tuple"
   ]
  },
  {
   "cell_type": "code",
   "execution_count": 168,
   "metadata": {},
   "outputs": [
    {
     "name": "stdout",
     "output_type": "stream",
     "text": [
      "['Usama', 'Shahzad', 'Khan']\n"
     ]
    }
   ],
   "source": [
    "name=\"Usama Shahzad Khan\"\n",
    "print(name.rsplit())#it returns the string in list "
   ]
  },
  {
   "cell_type": "code",
   "execution_count": 8,
   "metadata": {},
   "outputs": [
    {
     "name": "stdout",
     "output_type": "stream",
     "text": [
      "Usama Shahzad khan\n"
     ]
    }
   ],
   "source": [
    "name=\"Usama Shahzad khan              \"\n",
    "print(name.rstrip())#it deletes all the white-space-character from right of the string"
   ]
  },
  {
   "cell_type": "code",
   "execution_count": 194,
   "metadata": {},
   "outputs": [
    {
     "name": "stdout",
     "output_type": "stream",
     "text": [
      "['Usama', 'Shahzad']\n"
     ]
    }
   ],
   "source": [
    "name=\"Usama Shahzad\"\n",
    "print(name.split())#it convert the string into list "
   ]
  },
  {
   "cell_type": "code",
   "execution_count": 196,
   "metadata": {},
   "outputs": [
    {
     "name": "stdout",
     "output_type": "stream",
     "text": [
      "['Usama Shahzad Khan']\n"
     ]
    }
   ],
   "source": [
    "name=\"Usama Shahzad Khan\"\n",
    "print(name.splitlines())#it return a string into single list"
   ]
  },
  {
   "cell_type": "code",
   "execution_count": 198,
   "metadata": {},
   "outputs": [
    {
     "name": "stdout",
     "output_type": "stream",
     "text": [
      "True\n",
      "False\n"
     ]
    }
   ],
   "source": [
    "name=\"Usama Shahzad\"\n",
    "print(name.startswith(\"U\"))#it return true if the given alphabet are starting alphabet of whole string else false\n",
    "name=\"Usama Shahzad\"\n",
    "print(name.startswith(\"S\"))#it return false bcz 'S' is not the starting alphabet of whole string"
   ]
  },
  {
   "cell_type": "code",
   "execution_count": 29,
   "metadata": {},
   "outputs": [
    {
     "name": "stdout",
     "output_type": "stream",
     "text": [
      "Usama Shahzad\n"
     ]
    }
   ],
   "source": [
    "#The strip() method returns a copy of the string with both leading and trailing characters removed (based on the string argument passed).\n",
    "name=\"               Usama Shahzad               \"\n",
    "print(name.strip())#The strip() removes characters from both left and right based on the argument (a string specifying the set of characters to be removed)."
   ]
  },
  {
   "cell_type": "code",
   "execution_count": 13,
   "metadata": {},
   "outputs": [
    {
     "name": "stdout",
     "output_type": "stream",
     "text": [
      "uSAMA sHAHZAD kHAN\n"
     ]
    }
   ],
   "source": [
    "name=\"Usama Shahzad Khan\"\n",
    "print(name.swapcase())#it convert the 1st alphabet of string in lower-case and other whole string in upper-case"
   ]
  },
  {
   "cell_type": "code",
   "execution_count": 209,
   "metadata": {},
   "outputs": [
    {
     "name": "stdout",
     "output_type": "stream",
     "text": [
      "Usamaa Shahzad\n"
     ]
    }
   ],
   "source": [
    "name=\"uSAMAa sHAHZAD\"\n",
    "print(name.title())#it convert the 1st alphabet of every word in upper-case and all other alphabets in lower-case"
   ]
  },
  {
   "cell_type": "code",
   "execution_count": 26,
   "metadata": {},
   "outputs": [
    {
     "name": "stdout",
     "output_type": "stream",
     "text": [
      "{97: 49, 44: 44, 98: 50, 99: 51, 100: 52, 101: 53}\n",
      "1 254 is m145 up of 3opp5r\n"
     ]
    },
    {
     "data": {
      "text/plain": [
       "','"
      ]
     },
     "execution_count": 26,
     "metadata": {},
     "output_type": "execute_result"
    }
   ],
   "source": [
    "#The string translate() method returns a string where each character is mapped to its corresponding character in the translation table.\n",
    "name=\"a bed is made up of copper\"\n",
    "name1=\"a,b,c,d,e\"\n",
    "name2=\"1,2,3,4,5\"\n",
    "t=name.maketrans(name1,name2)\n",
    "print(t)\n",
    "t=name.translate(t)#it shows the mapping between the character in the table of string\n",
    "print(t)\n",
    "chr(44)"
   ]
  },
  {
   "cell_type": "code",
   "execution_count": 213,
   "metadata": {},
   "outputs": [
    {
     "name": "stdout",
     "output_type": "stream",
     "text": [
      "USAMA SHAHZAD\n"
     ]
    }
   ],
   "source": [
    "name=\"Usama Shahzad\"\n",
    "print(name.upper())#it convert the whole string in  upper-case"
   ]
  },
  {
   "cell_type": "code",
   "execution_count": 227,
   "metadata": {},
   "outputs": [
    {
     "name": "stdout",
     "output_type": "stream",
     "text": [
      "0Usama Shahzad\n"
     ]
    }
   ],
   "source": [
    "name=\"Usama Shahzad\"\n",
    "print(name.zfill(14))#add zeros after the total character of string which also include white space-character"
   ]
  },
  {
   "cell_type": "markdown",
   "metadata": {},
   "source": [
    "# 20 operand with different operators\n"
   ]
  },
  {
   "cell_type": "code",
   "execution_count": null,
   "metadata": {},
   "outputs": [],
   "source": [
    "#PEMDAS Rule is used () ** * / + -"
   ]
  },
  {
   "cell_type": "code",
   "execution_count": 1,
   "metadata": {
    "scrolled": true
   },
   "outputs": [
    {
     "data": {
      "text/plain": [
       "3.0"
      ]
     },
     "execution_count": 1,
     "metadata": {},
     "output_type": "execute_result"
    }
   ],
   "source": [
    "1+2-3%4//5*6/12**12"
   ]
  },
  {
   "cell_type": "code",
   "execution_count": 2,
   "metadata": {},
   "outputs": [
    {
     "data": {
      "text/plain": [
       "13894.0"
      ]
     },
     "execution_count": 2,
     "metadata": {},
     "output_type": "execute_result"
    }
   ],
   "source": [
    "5*2 - 4*3 + 5*6*2 / 6*10 +2**9 - 3**7//5*2 - 9*12 +22*12*54 +22%12-12 / 12+2/2"
   ]
  },
  {
   "cell_type": "code",
   "execution_count": 3,
   "metadata": {},
   "outputs": [
    {
     "data": {
      "text/plain": [
       "-6.000266974657745e+16"
      ]
     },
     "execution_count": 3,
     "metadata": {},
     "output_type": "execute_result"
    }
   ],
   "source": [
    "2*2 - 2*32 + 12*12*2 / 6*10 +32**9 - (3**37//15*2) - 9*12 +(22*12*504) +11%12-12 / 12+2/2"
   ]
  }
 ],
 "metadata": {
  "kernelspec": {
   "display_name": "Python 3",
   "language": "python",
   "name": "python3"
  },
  "language_info": {
   "codemirror_mode": {
    "name": "ipython",
    "version": 3
   },
   "file_extension": ".py",
   "mimetype": "text/x-python",
   "name": "python",
   "nbconvert_exporter": "python",
   "pygments_lexer": "ipython3",
   "version": "3.7.5rc1"
  }
 },
 "nbformat": 4,
 "nbformat_minor": 2
}
